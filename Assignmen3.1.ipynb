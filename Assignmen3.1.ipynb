{
 "cells": [
  {
   "cell_type": "code",
   "execution_count": 8,
   "metadata": {},
   "outputs": [
    {
     "data": {
      "text/plain": [
       "33"
      ]
     },
     "execution_count": 8,
     "metadata": {},
     "output_type": "execute_result"
    }
   ],
   "source": [
    "#Program to implement reduce function\n",
    "\n",
    "def my_reduce_function(function, iterable):\n",
    "    iterator = iter(iterable)    \n",
    "    accumulated_value = next(iterator)     \n",
    "    for x in iterator:\n",
    "        accumulated_value = function(accumulated_value, x)\n",
    "    return accumulated_value\n",
    "\n",
    "list =[7,11,2,13]\n",
    "my_reduce_function(lambda x,y: x+y,list)\n"
   ]
  },
  {
   "cell_type": "code",
   "execution_count": 10,
   "metadata": {},
   "outputs": [
    {
     "data": {
      "text/plain": [
       "22"
      ]
     },
     "execution_count": 10,
     "metadata": {},
     "output_type": "execute_result"
    }
   ],
   "source": [
    "#Program to implement filter function\n",
    "\n",
    "def my_filter_function(function, iterable):\n",
    "    iterator = iter(iterable)    \n",
    "    accumulated_value = next(iterator)\n",
    "    for x in iterator:\n",
    "        if (function(x)):\n",
    "            accumulated_value = x\n",
    "    return accumulated_value\n",
    "list =[24,22,19,13]\n",
    "my_filter_function(lambda x: x%2==0,list)"
   ]
  }
 ],
 "metadata": {
  "kernelspec": {
   "display_name": "Python 3",
   "language": "python",
   "name": "python3"
  },
  "language_info": {
   "codemirror_mode": {
    "name": "ipython",
    "version": 3
   },
   "file_extension": ".py",
   "mimetype": "text/x-python",
   "name": "python",
   "nbconvert_exporter": "python",
   "pygments_lexer": "ipython3",
   "version": "3.6.3"
  }
 },
 "nbformat": 4,
 "nbformat_minor": 2
}
